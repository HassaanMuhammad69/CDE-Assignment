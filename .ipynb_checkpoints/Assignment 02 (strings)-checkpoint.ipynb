{
 "cells": [
  {
   "cell_type": "markdown",
   "id": "af5ef57f-5043-487b-b75d-b66ff3ec30d2",
   "metadata": {},
   "source": [
    "### 1. Write a program that accepts a string from user. Your program should count and display number of vowels in that string. \n"
   ]
  },
  {
   "cell_type": "code",
   "execution_count": 9,
   "id": "797c8db2-6ddc-44f3-8497-db3c5d5ab479",
   "metadata": {},
   "outputs": [
    {
     "name": "stdin",
     "output_type": "stream",
     "text": [
      "Enter a name or sentence:  asdeiou\n"
     ]
    },
    {
     "name": "stdout",
     "output_type": "stream",
     "text": [
      "5\n"
     ]
    }
   ],
   "source": [
    "text=input(\"Enter a name or sentence: \")\n",
    "count=text.count(\"a\")+text.count(\"e\")+text.count(\"i\")+text.count(\"o\")+text.count(\"u\")\n",
    "print(count)"
   ]
  },
  {
   "cell_type": "markdown",
   "id": "f02b0272-c521-4d20-a46a-f5b7f4a8b3af",
   "metadata": {},
   "source": [
    "###  2. Write a program that reads a string from keyboard and display:\n",
    "* The number of uppercase letters in the string\n",
    "* The number of lowercase letters in the string\n",
    "* The number of digits in the string\n",
    "* The number of whitespace characters in the string \n"
   ]
  },
  {
   "cell_type": "code",
   "execution_count": 24,
   "id": "7e98bc63-cdf1-49a1-9bb1-ac54da7c4560",
   "metadata": {},
   "outputs": [
    {
     "name": "stdin",
     "output_type": "stream",
     "text": [
      "Enter anything My name is Hassaan Muhammad I am 22 year old\n"
     ]
    },
    {
     "name": "stdout",
     "output_type": "stream",
     "text": [
      "The sum of uppercase is 4\n",
      "The sum of lowercase is 29\n",
      "The sum of digits is 2\n",
      "The sum of spaces is 9\n"
     ]
    }
   ],
   "source": [
    "text= input(\"Enter anything\")\n",
    "uppercase= sum(1 for ch in text if ch.isupper())\n",
    "lowercase= sum(1 for ch in text if ch.islower())\n",
    "digitcase= sum(1 for ch in text if ch.isdigit())\n",
    "spacecase= sum(1 for ch in text if ch.isspace())\n",
    "\n",
    "print(\"The sum of uppercase is\", uppercase)\n",
    "print(\"The sum of lowercase is\", lowercase)\n",
    "print(\"The sum of digits is\", digitcase)\n",
    "print(\"The sum of spaces is\", spacecase)"
   ]
  },
  {
   "cell_type": "markdown",
   "id": "3f38dd15-2b5c-44dd-abd7-f49af6882807",
   "metadata": {},
   "source": [
    "###  3. Write a Python program that accepts a string from user. Your program should create and display a new string where the first and last characters have been exchanged. \n",
    "For example if the user enters the string 'HELLO' then new string would be 'OELLH'"
   ]
  },
  {
   "cell_type": "code",
   "execution_count": 14,
   "id": "7a228d79-00cb-45d0-b2b2-b860d2975755",
   "metadata": {},
   "outputs": [
    {
     "name": "stdin",
     "output_type": "stream",
     "text": [
      "Enter any string hello\n"
     ]
    },
    {
     "name": "stdout",
     "output_type": "stream",
     "text": [
      "olleh\n"
     ]
    }
   ],
   "source": [
    "str1= input(\"Enter any string\")\n",
    "str2= str1[:: -1]\n",
    "print(str2)"
   ]
  },
  {
   "cell_type": "markdown",
   "id": "7027d8d5-6656-4564-a4ac-57bd3ca53686",
   "metadata": {},
   "source": [
    "### 4. Write a Python program that accepts a string from user. Your program should create a new string in reverse of first string and display it.\n",
    "For example if the user enters the string 'EXAM' then new string would be 'MAXE' \n"
   ]
  },
  {
   "cell_type": "code",
   "execution_count": 15,
   "id": "4ecd8e55-269c-45d6-a129-e54981efc138",
   "metadata": {},
   "outputs": [
    {
     "name": "stdin",
     "output_type": "stream",
     "text": [
      "Enter any string EXAM\n"
     ]
    },
    {
     "name": "stdout",
     "output_type": "stream",
     "text": [
      "MAXE\n"
     ]
    }
   ],
   "source": [
    "str1= input(\"Enter any string\")\n",
    "str2= str1[:: -1]\n",
    "print(str2)"
   ]
  },
  {
   "cell_type": "markdown",
   "id": "529abef7-ae2c-40fa-b936-a9598a3d3b1f",
   "metadata": {},
   "source": [
    "### 5. Write a Python program that accepts a string from user. Your program should create a new string by shifting one position to left.\n",
    "For example if the user enters the string 'examination 2021' then new string would be 'xamination\n",
    "2021e'"
   ]
  },
  {
   "cell_type": "code",
   "execution_count": 26,
   "id": "9ee21240-06c1-4385-84f5-06b06d57ebd3",
   "metadata": {},
   "outputs": [
    {
     "name": "stdin",
     "output_type": "stream",
     "text": [
      "Enter any string examination 2021\n"
     ]
    },
    {
     "name": "stdout",
     "output_type": "stream",
     "text": [
      "xamination 2021e\n"
     ]
    }
   ],
   "source": [
    "str1= input(\"Enter any string\")\n",
    "res= str1[1:] + str1[0]\n",
    "print(res)"
   ]
  },
  {
   "cell_type": "markdown",
   "id": "8fac5257-ea1e-4ea6-b4de-d1a035f3285b",
   "metadata": {},
   "source": [
    "### 6. Write a program that asks the user to input his name and print its initials. Assuming that the useralways types first name, middle name and last name and does not include any unnecessary spaces.\n",
    "For example, if the user enters Ajay Kumar Garg the program should display A. K. G.\n",
    "Note:Don't use split() method \n"
   ]
  },
  {
   "cell_type": "code",
   "execution_count": 34,
   "id": "6326eca1-7c3c-4087-abed-cd829d6342a5",
   "metadata": {},
   "outputs": [
    {
     "name": "stdin",
     "output_type": "stream",
     "text": [
      "Enter your first name Hassaan\n",
      "Enter your middle name Muhammad\n",
      "Enter your last name Shahid\n"
     ]
    },
    {
     "name": "stdout",
     "output_type": "stream",
     "text": [
      "H.M.S\n"
     ]
    }
   ],
   "source": [
    "f_name=input(\"Enter your first name\")\n",
    "m_name=input(\"Enter your middle name\")\n",
    "l_name=input(\"Enter your last name\")\n",
    "res= f_name[0]+ \".\" + m_name[0]+ \".\" +l_name[0]\n",
    "print(res)\n"
   ]
  },
  {
   "cell_type": "markdown",
   "id": "70c874a2-98a8-4b33-a50e-b53fe643f3b9",
   "metadata": {},
   "source": [
    "### 7. A palindrome is a string that reads the same backward as forward. For example, the words dad,madam and radar are all palindromes. Write a programs that determines whether the string is a palindrome.\n",
    "Note: do not use reverse() method"
   ]
  },
  {
   "cell_type": "code",
   "execution_count": 37,
   "id": "cb34cfd0-de3e-4b5f-ae19-b9fd1d234b69",
   "metadata": {},
   "outputs": [
    {
     "name": "stdin",
     "output_type": "stream",
     "text": [
      "Enter anything mom\n"
     ]
    },
    {
     "name": "stdout",
     "output_type": "stream",
     "text": [
      "Palindrome\n"
     ]
    }
   ],
   "source": [
    "str1=input(\"Enter anything\")\n",
    "str2= str1[:: -1]\n",
    "if(str1 == str2):\n",
    "    print(\"Palindrome\")\n",
    "else:\n",
    "    print(\"Not a palidrome\")"
   ]
  },
  {
   "cell_type": "markdown",
   "id": "85c699af-e47f-4822-aab0-82c8fbe695c2",
   "metadata": {},
   "source": [
    "### 8. Write a program that display following output:\n",
    "SHIFT\n",
    "HIFTS\n",
    "IFTSH\n",
    "FTSHI\n",
    "TSHIF\n",
    "SHIFT"
   ]
  },
  {
   "cell_type": "code",
   "execution_count": 48,
   "id": "0998b2c4-f50d-4683-be0f-712d81287c9c",
   "metadata": {},
   "outputs": [
    {
     "name": "stdout",
     "output_type": "stream",
     "text": [
      "SHIFT\n",
      "HIFTS\n",
      "IFTSH\n",
      "FTSHI\n",
      "TSHIF\n",
      "SHIFT\n"
     ]
    }
   ],
   "source": [
    "str=\"SHIFT\"\n",
    "print(str[0:])\n",
    "print(str[1:] + str[0])\n",
    "print(str[2:] + str[0:-3])\n",
    "print(str[3:] + str[0:-2])\n",
    "print(str[4:] + str[:-1])\n",
    "print(str[0:])"
   ]
  },
  {
   "cell_type": "markdown",
   "id": "fe253565-d26c-46a2-af53-2695d058dc8c",
   "metadata": {},
   "source": [
    "### 9. Write a program in python that accepts a string to setup a passwords. Your entered password must meet the following requirements: \n",
    "The password must be at least eight characters long.\n",
    "It must contain at least one uppercase letter.\n",
    "It must contain at least one lowercase letter.\n",
    "It must contain at least one numeric digit.\n",
    "Your program should should perform this validation. "
   ]
  },
  {
   "cell_type": "code",
   "execution_count": 52,
   "id": "7ac0f595-7f18-4aeb-af24-84791c03337c",
   "metadata": {},
   "outputs": [
    {
     "name": "stdin",
     "output_type": "stream",
     "text": [
      "Enter your password I am Hassaan Muhaamad 44\n"
     ]
    }
   ],
   "source": [
    "str1=input(\"Enter your password\")\n",
    "if(len(str1) >= 8):\n",
    "    if not any (char.islower() for char in str1):print(\"Your character must contain lower case\")\n",
    "    if not any(char.isupper() for char in str1):print(\"Your character must contain upper case\")\n",
    "    if not any (char.isdigit() for char in str1):print(\"Your character must contain digit case\")\n",
    "else:\n",
    "    print(\"Password must be greater than 8 character long\") "
   ]
  }
 ],
 "metadata": {
  "kernelspec": {
   "display_name": "Python 3 (ipykernel)",
   "language": "python",
   "name": "python3"
  },
  "language_info": {
   "codemirror_mode": {
    "name": "ipython",
    "version": 3
   },
   "file_extension": ".py",
   "mimetype": "text/x-python",
   "name": "python",
   "nbconvert_exporter": "python",
   "pygments_lexer": "ipython3",
   "version": "3.13.7"
  }
 },
 "nbformat": 4,
 "nbformat_minor": 5
}
