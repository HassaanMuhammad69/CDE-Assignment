{
 "cells": [
  {
   "cell_type": "markdown",
   "metadata": {},
   "source": [
    "# Part -1 Python Basics (Variables)"
   ]
  },
  {
   "cell_type": "markdown",
   "metadata": {},
   "source": [
    "1. Print Your Name with your Father name and Date of birth using suitable escape sequence charactor"
   ]
  },
  {
   "cell_type": "code",
   "execution_count": 29,
   "metadata": {},
   "outputs": [
    {
     "name": "stdout",
     "output_type": "stream",
     "text": [
      "Hassaan Muhammad \n",
      " Muhammad Shahid \n",
      " 04-04-2003\n"
     ]
    }
   ],
   "source": [
    "print(\"Hassaan Muhammad \\n Muhammad Shahid \\n 04-04-2003\")"
   ]
  },
  {
   "cell_type": "markdown",
   "metadata": {},
   "source": [
    "2. Write your small bio using variables and print it using print function"
   ]
  },
  {
   "cell_type": "code",
   "execution_count": 21,
   "metadata": {},
   "outputs": [
    {
     "name": "stdout",
     "output_type": "stream",
     "text": [
      "My Name is Hassaan Muhammad. I am 22 year old\n"
     ]
    }
   ],
   "source": [
    "bio=\"My Name is Hassaan Muhammad. I am 22 year old\"\n",
    "print(bio)"
   ]
  },
  {
   "cell_type": "markdown",
   "metadata": {},
   "source": [
    "3. Write a program in which use all the operators we can use in Python"
   ]
  },
  {
   "cell_type": "code",
   "execution_count": 22,
   "metadata": {},
   "outputs": [
    {
     "name": "stdout",
     "output_type": "stream",
     "text": [
      "7\n",
      "-3\n",
      "10\n",
      "0.4\n",
      "2\n",
      "True\n",
      "False\n",
      "32\n"
     ]
    }
   ],
   "source": [
    "m= 2\n",
    "n= 5\n",
    "print(m+n)\n",
    "print(m-n)\n",
    "print(m*n)\n",
    "print(m/n)\n",
    "print(m%n)\n",
    "print(m<n)\n",
    "print(m>n)\n",
    "print(m**n)\n"
   ]
  },
  {
   "cell_type": "markdown",
   "metadata": {},
   "source": [
    "4. Completes the following steps of small task:\n",
    "    - Mention Marks of English , Islamiat and Maths out of 100 in 3 different variables\n",
    "    - Mention Variable of Total Marks and assign 300 to it\n",
    "    - Calculate Percentage"
   ]
  },
  {
   "cell_type": "code",
   "execution_count": 27,
   "metadata": {},
   "outputs": [
    {
     "name": "stdout",
     "output_type": "stream",
     "text": [
      "80.66666666666666\n"
     ]
    }
   ],
   "source": [
    "ME=85\n",
    "MI=68\n",
    "MM=89\n",
    "TM=300\n",
    "Percentage=((ME+MI+MM)/TM)*100\n",
    "print(Percentage)"
   ]
  },
  {
   "cell_type": "markdown",
   "metadata": {},
   "source": [
    "# Part -2 Python Basics (Conditional Statements)"
   ]
  },
  {
   "cell_type": "markdown",
   "metadata": {},
   "source": [
    "1) A company decided to give bonus of 5% to employee if his/her year of service is more than 5 years.\n",
    "Ask user for their salary and year of service and print the net bonus amount."
   ]
  },
  {
   "cell_type": "code",
   "execution_count": null,
   "metadata": {},
   "outputs": [
    {
     "name": "stdout",
     "output_type": "stream",
     "text": [
      "You are not eligable for bonus, your year od service is not more than 5 years\n"
     ]
    }
   ],
   "source": [
    "Ys=int(input(\"Enter your year of service\"))\n",
    "if(Ys>5):\n",
    "    Sal=int(input(\"Enter your Salary\"))\n",
    "    print(\"Now your net bonus is:\", Sal* 0.05)\n",
    "else:\n",
    "    print(\"You are not eligable for bonus, your year of service is not more than 5 years\")\n"
   ]
  },
  {
   "cell_type": "markdown",
   "metadata": {},
   "source": [
    "\n",
    "2) Write a program to check whether a person is eligible for voting or not. (accept age from user) if age is greater than 17 eligible otherwise not eligible"
   ]
  },
  {
   "cell_type": "code",
   "execution_count": 36,
   "metadata": {},
   "outputs": [
    {
     "name": "stdout",
     "output_type": "stream",
     "text": [
      "You are not elgiable for voting\n"
     ]
    }
   ],
   "source": [
    "age=int(input(\"Enter your age\"))\n",
    "if(age>=18):\n",
    "    print(\"You are eligable for voting\")\n",
    "else:\n",
    "    print(\"You are not elgiable for voting\")"
   ]
  },
  {
   "cell_type": "markdown",
   "metadata": {},
   "source": [
    "\n",
    "3) Write a program to check whether a number entered by user is even or odd."
   ]
  },
  {
   "cell_type": "code",
   "execution_count": 43,
   "metadata": {},
   "outputs": [
    {
     "name": "stdout",
     "output_type": "stream",
     "text": [
      "This is an odd number\n"
     ]
    }
   ],
   "source": [
    "num=int(input(\"Enter a number\"))\n",
    "if(num%2==0):\n",
    "    print(\"This is an even number\")\n",
    "else:\n",
    "    print(\"This is an odd number\")"
   ]
  },
  {
   "cell_type": "markdown",
   "metadata": {},
   "source": [
    "4) Write a program to check whether a number is divisible by 7 or not.\n",
    "Show Answer"
   ]
  },
  {
   "cell_type": "code",
   "execution_count": 45,
   "metadata": {},
   "outputs": [
    {
     "name": "stdout",
     "output_type": "stream",
     "text": [
      "This is not divisble by 7\n"
     ]
    }
   ],
   "source": [
    "num=int(input(\"Enter a number\"))\n",
    "if(num%7==0):\n",
    "    print(\"This is divisble by 7\")\n",
    "else:\n",
    "    print(\"This is not divisble by 7\")"
   ]
  },
  {
   "cell_type": "markdown",
   "metadata": {},
   "source": [
    "5) Write a program to display \n",
    "\"Hello\" if a number entered by user is a multiple of five , otherwise print \"Bye\"."
   ]
  },
  {
   "cell_type": "code",
   "execution_count": 47,
   "metadata": {},
   "outputs": [
    {
     "name": "stdout",
     "output_type": "stream",
     "text": [
      "Bye\n"
     ]
    }
   ],
   "source": [
    "num=int(input(\"Enter a number\"))\n",
    "if(num%5==0):\n",
    "    print(\"Hello\")\n",
    "else:\n",
    "    print(\"Bye\")"
   ]
  },
  {
   "cell_type": "markdown",
   "metadata": {},
   "source": [
    "7) Write a program to display the last digit of a number.\n"
   ]
  },
  {
   "cell_type": "code",
   "execution_count": 4,
   "metadata": {},
   "outputs": [
    {
     "name": "stdin",
     "output_type": "stream",
     "text": [
      "Enter two digit number 8885\n"
     ]
    },
    {
     "name": "stdout",
     "output_type": "stream",
     "text": [
      "This is the last digit of number 5\n"
     ]
    }
   ],
   "source": [
    "num=input(\"Enter two digit number\")\n",
    "lastD=num[-1]\n",
    "print(\"This is the last digit of number\", lastD)\n"
   ]
  },
  {
   "cell_type": "markdown",
   "metadata": {},
   "source": [
    "9) Take values of length and breadth of a rectangle from user and print if it is square or rectangle."
   ]
  },
  {
   "cell_type": "code",
   "execution_count": 6,
   "metadata": {},
   "outputs": [
    {
     "name": "stdin",
     "output_type": "stream",
     "text": [
      "Enter breadth of a rectangele 5\n",
      "Enter length of a rectangele 9\n"
     ]
    },
    {
     "name": "stdout",
     "output_type": "stream",
     "text": [
      "This is recatangle\n"
     ]
    }
   ],
   "source": [
    "breadth=int(input(\"Enter breadth of a rectangele\"))\n",
    "length=int(input(\"Enter length of a rectangele\"))\n",
    "if (length== breadth):\n",
    "    print(\"This is square\")\n",
    "else:\n",
    "    print(\"This is recatangle\")"
   ]
  },
  {
   "cell_type": "markdown",
   "metadata": {},
   "source": [
    "10) Take two int values from user and print greatest among them."
   ]
  },
  {
   "cell_type": "code",
   "execution_count": 9,
   "metadata": {},
   "outputs": [
    {
     "name": "stdin",
     "output_type": "stream",
     "text": [
      "Enter a value 11\n",
      "Enter a new value 12\n"
     ]
    },
    {
     "name": "stdout",
     "output_type": "stream",
     "text": [
      "12 is greatest\n"
     ]
    }
   ],
   "source": [
    "a=int(input(\"Enter a value\"))\n",
    "b=int(input(\"Enter a new value\"))\n",
    "if(a>b):\n",
    "    print(a, \"is greatest\")\n",
    "elif(b>a):\n",
    "    print(b, \"is greatest\")"
   ]
  },
  {
   "cell_type": "markdown",
   "metadata": {},
   "source": [
    "11) A shop will give discount of 10% if the cost of purchased quantity is more than 1000.\n",
    "Ask user for quantity\n",
    "Suppose, one unit will cost 100.\n",
    "Judge and print total cost for user."
   ]
  },
  {
   "cell_type": "code",
   "execution_count": 11,
   "metadata": {},
   "outputs": [
    {
     "name": "stdin",
     "output_type": "stream",
     "text": [
      "Enter the quantity 10\n"
     ]
    },
    {
     "name": "stdout",
     "output_type": "stream",
     "text": [
      "Your total is:  900.0\n"
     ]
    }
   ],
   "source": [
    "qua=int(input(\"Enter the quantity\"))\n",
    "total= qua *100\n",
    "if(total>=1000):\n",
    "    print(\"Your total is: \",total - (0.10* total))\n",
    "else:\n",
    "    print(\"You are not eligable for it\")\n",
    "    "
   ]
  },
  {
   "cell_type": "markdown",
   "metadata": {},
   "source": [
    "12) A school has following rules for grading system:\n",
    "\n",
    "a. Below 25 - F\n",
    "\n",
    "b. 25 to 45 - E\n",
    "\n",
    "c. 45 to 50 - D\n",
    "\n",
    "d. 50 to 60 - C\n",
    "\n",
    "e. 60 to 80 - B\n",
    "\n",
    "f. Above 80 - A\n",
    "\n",
    "Ask user to enter marks and print the corresponding grade."
   ]
  },
  {
   "cell_type": "code",
   "execution_count": 15,
   "metadata": {},
   "outputs": [
    {
     "name": "stdin",
     "output_type": "stream",
     "text": [
      "Enter your marks: 65\n"
     ]
    },
    {
     "name": "stdout",
     "output_type": "stream",
     "text": [
      "B\n"
     ]
    }
   ],
   "source": [
    "marks=int(input(\"Enter your marks:\"))\n",
    "if(marks< 25):\n",
    "    print(\"F\")\n",
    "elif(marks>=25 and marks<45):\n",
    "    print(\"E\")\n",
    "elif(marks>=45 and marks<50):\n",
    "    print(\"D\")\n",
    "elif(marks>=50 and marks<60):\n",
    "    print(\"C\")\n",
    "elif(marks>=60 and marks<80):\n",
    "    print(\"B\")\n",
    "elif(marks>=80):\n",
    "    print(\"A\")\n"
   ]
  },
  {
   "cell_type": "markdown",
   "metadata": {},
   "source": [
    "14)A student will not be allowed to sit in exam if his/her attendence is less than 75%.\n",
    "\n",
    "Take following input from user\n",
    "\n",
    "- Number of classes held\n",
    "\n",
    "- Number of classes attended.\n",
    "\n",
    "And print\n",
    "\n",
    "- percentage of class attended\n",
    "\n",
    "- Is student is allowed to sit in exam or not.\n"
   ]
  },
  {
   "cell_type": "code",
   "execution_count": 18,
   "metadata": {},
   "outputs": [
    {
     "name": "stdin",
     "output_type": "stream",
     "text": [
      "Number of classes held 10\n",
      "Number of classes attend 6\n"
     ]
    },
    {
     "name": "stdout",
     "output_type": "stream",
     "text": [
      "60.0\n",
      "Stident is not allowed\n"
     ]
    }
   ],
   "source": [
    "clsH=int(input(\"Number of classes held\"))\n",
    "clsA=int(input(\"Number of classes attend\"))\n",
    "perc=(clsA/clsH)*100\n",
    "print(perc)\n",
    "if(perc>=75):\n",
    "    print(\"Student is allowed\")\n",
    "else:\n",
    "    print(\"Stident is not allowed\")"
   ]
  },
  {
   "cell_type": "markdown",
   "metadata": {},
   "source": [
    "15) Modify the above question to allow student to sit if he/she has medical cause. Ask user if he/she has medical cause or not ( 'Y' or 'N' ) and print accordingly."
   ]
  },
  {
   "cell_type": "code",
   "execution_count": 21,
   "metadata": {},
   "outputs": [
    {
     "name": "stdin",
     "output_type": "stream",
     "text": [
      "Number of classes held 10\n",
      "Number of classes attend 6\n"
     ]
    },
    {
     "name": "stdout",
     "output_type": "stream",
     "text": [
      "60.0\n"
     ]
    },
    {
     "name": "stdin",
     "output_type": "stream",
     "text": [
      "Did you have any medical cause Y or N N\n"
     ]
    },
    {
     "name": "stdout",
     "output_type": "stream",
     "text": [
      "Student is not allowed\n"
     ]
    }
   ],
   "source": [
    "clsH=int(input(\"Number of classes held\"))\n",
    "clsA=int(input(\"Number of classes attend\"))\n",
    "perc=(clsA/clsH)*100\n",
    "print(perc)\n",
    "if(perc<75):\n",
    "    med=input(\"Did you have any medical cause Y or N\")\n",
    "    if(med==\"Y\"):\n",
    "        print(\"Student is allowed\")\n",
    "    else:\n",
    "        print(\"Student is not allowed\")\n",
    "else:\n",
    "    print(\"Stident is allowed\")"
   ]
  },
  {
   "cell_type": "markdown",
   "metadata": {},
   "source": [
    "16) Write a program to check if a year is leap year or not.\n",
    "\n",
    "If a year is divisible by 4 then it is leap year but if the year is century year like 2000, 1900, 2100 then it must be divisible by 400."
   ]
  },
  {
   "cell_type": "code",
   "execution_count": 30,
   "metadata": {},
   "outputs": [
    {
     "name": "stdin",
     "output_type": "stream",
     "text": [
      "Enter the current year 1900\n"
     ]
    },
    {
     "name": "stdout",
     "output_type": "stream",
     "text": [
      "Leap year\n"
     ]
    }
   ],
   "source": [
    "year=int(input(\"Enter the current year\"))\n",
    "if(year%4==0 or year%400==0):\n",
    "    print(\"Leap year\")\n",
    "else: \n",
    "    print(\"Not a leap year\") "
   ]
  },
  {
   "cell_type": "markdown",
   "metadata": {},
   "source": [
    "17) Ask user to enter age, gender ( M or F ), marital status ( Y or N ) and then using following rules print their place of service.\n",
    "\n",
    "if employee is female, then she will work only in urban areas.\n",
    "\n",
    "if employee is a male and age is in between 20 to 40 then he may work in anywhere\n",
    "\n",
    "if employee is male and age is in between 40 t0 60 then he will work in urban areas only.\n",
    "\n",
    "And any other input of age should print \"ERROR\""
   ]
  },
  {
   "cell_type": "code",
   "execution_count": 35,
   "metadata": {},
   "outputs": [
    {
     "name": "stdin",
     "output_type": "stream",
     "text": [
      "Enter your age 55\n",
      "Enter your gender M or F M\n",
      "Enter your marital status N\n"
     ]
    },
    {
     "name": "stdout",
     "output_type": "stream",
     "text": [
      "Work urban area\n"
     ]
    }
   ],
   "source": [
    "age=int(input(\"Enter your age\"))\n",
    "gender=input(\"Enter your gender M or F\")\n",
    "marital=input(\"Enter your marital status\")\n",
    "if(gender==\"F\"):\n",
    "    print(\"Work in urban areas\")\n",
    "elif(gender==\"M\" and age>=20 and age<=40):\n",
    "    print(\"Work anywhere\")\n",
    "elif(gender==\"M\" and age>40 and age<=60):\n",
    "    print(\"Work urban area\")\n",
    "else:\n",
    "    print(\"ERROR\")"
   ]
  },
  {
   "cell_type": "markdown",
   "metadata": {},
   "source": [
    "6) Write a program to calculate the electricity bill (accept number of unit from user) according to the following criteria :\n",
    "     Unit                                                     Price  \n",
    "uptp 100 units                                             no charge\n",
    "Next 200 units                                              Rs 5 per unit\n",
    "After 200 units                                             Rs 10 per unit\n",
    "(For example if input unit is 350 than total bill amount is Rs.3500\n",
    "(For example if input unit is 97 than total bill amount is Rs.0\n",
    "(For example if input unit is 150 than total bill amount is Rs.750"
   ]
  },
  {
   "cell_type": "code",
   "execution_count": 62,
   "metadata": {},
   "outputs": [
    {
     "name": "stdin",
     "output_type": "stream",
     "text": [
      "Enter your input 300\n"
     ]
    },
    {
     "name": "stdout",
     "output_type": "stream",
     "text": [
      "your this month bill is 3000\n"
     ]
    }
   ],
   "source": [
    "unit = int(input(\"Enter your input\"))\n",
    "if(unit<=100):\n",
    "    bill=0\n",
    "    print(\"your this month bill is\",bill)\n",
    "elif(unit>100 and unit<=200):\n",
    "    bill=unit*5\n",
    "    print(\"your this month bill is\",bill)\n",
    "elif(unit>200):\n",
    "    bill= unit*10\n",
    "    print(\"your this month bill is\",bill)"
   ]
  },
  {
   "cell_type": "markdown",
   "metadata": {},
   "source": [
    "13) Take input of age of 3 people by user and determine oldest and youngest among them."
   ]
  },
  {
   "cell_type": "code",
   "execution_count": 47,
   "metadata": {},
   "outputs": [
    {
     "name": "stdin",
     "output_type": "stream",
     "text": [
      "Enter your age p1 5\n",
      "Enter your age p2 6\n",
      "Enter your age p3 7\n"
     ]
    },
    {
     "name": "stdout",
     "output_type": "stream",
     "text": [
      "The oldest person is p3 and youngest is p1\n"
     ]
    }
   ],
   "source": [
    "a1=int(input(\"Enter your age p1\"))\n",
    "a2=int(input(\"Enter your age p2\"))\n",
    "a3=int(input(\"Enter your age p3\"))\n",
    "if(a1>a2 and a2>a3):\n",
    "    print(\"The oldest person is p1 and youngest is p3\")\n",
    "elif(a2>a1 and a1>a3):\n",
    "    print(\"The oldest person is p2 and youngest is p3\")\n",
    "elif(a3>a2 and a2>a1):\n",
    "    print(\"The oldest person is p3 and youngest is p1\")\n",
    "else:\n",
    "    print(\"The oldest person is p3 and youngest is p2\")"
   ]
  }
 ],
 "metadata": {
  "kernelspec": {
   "display_name": "Python 3 (ipykernel)",
   "language": "python",
   "name": "python3"
  },
  "language_info": {
   "codemirror_mode": {
    "name": "ipython",
    "version": 3
   },
   "file_extension": ".py",
   "mimetype": "text/x-python",
   "name": "python",
   "nbconvert_exporter": "python",
   "pygments_lexer": "ipython3",
   "version": "3.13.7"
  }
 },
 "nbformat": 4,
 "nbformat_minor": 4
}
