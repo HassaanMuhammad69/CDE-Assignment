{
 "cells": [
  {
   "cell_type": "markdown",
   "id": "0c698d19-57dd-4eb1-9ae7-83d2f30d0a27",
   "metadata": {},
   "source": [
    "### 1. Write a program that accepts a list from user and print the alternate element of list. \n"
   ]
  },
  {
   "cell_type": "code",
   "execution_count": 1,
   "id": "7ac7e307-76f6-4fda-a643-94eec6d6d8c7",
   "metadata": {},
   "outputs": [
    {
     "name": "stdin",
     "output_type": "stream",
     "text": [
      "Enter your input 1 2 3 4 5\n"
     ]
    },
    {
     "name": "stdout",
     "output_type": "stream",
     "text": [
      "['1', '3', '5']\n"
     ]
    }
   ],
   "source": [
    "lst= input(\"Enter your input\")\n",
    "lst1= lst.split()\n",
    "print(lst1[::2])"
   ]
  },
  {
   "cell_type": "markdown",
   "id": "5b803dec-e571-4d68-b0af-d7d20ef5a47c",
   "metadata": {},
   "source": [
    "### 2. Write a program that accepts a list from user. Your program should reverse the content of list and display it. Do not use reverse() method. \n"
   ]
  },
  {
   "cell_type": "code",
   "execution_count": 3,
   "id": "3c50d2cb-ed56-42a8-8f11-e275b7bbb8b5",
   "metadata": {},
   "outputs": [
    {
     "name": "stdin",
     "output_type": "stream",
     "text": [
      "Enter your input 1 2 3 4 5\n"
     ]
    },
    {
     "name": "stdout",
     "output_type": "stream",
     "text": [
      "5 4 3 2 1\n"
     ]
    }
   ],
   "source": [
    "lst= input(\"Enter your input\")\n",
    "print(lst[:: -1])"
   ]
  },
  {
   "cell_type": "markdown",
   "id": "4f297c30-2830-45ba-a37b-3b44d6fb0a29",
   "metadata": {},
   "source": [
    "### 3. Find and display the largest number of a list without using built-in function max(). Your program should ask the user to input values in list from keyboard. "
   ]
  },
  {
   "cell_type": "code",
   "execution_count": 6,
   "id": "5218194f-1f94-47ac-8253-f10fb3ed6a6a",
   "metadata": {},
   "outputs": [
    {
     "name": "stdin",
     "output_type": "stream",
     "text": [
      "Enter your input 1 2 3 4 5\n"
     ]
    },
    {
     "name": "stdout",
     "output_type": "stream",
     "text": [
      "The largest num is 5\n"
     ]
    }
   ],
   "source": [
    "lst= input(\"Enter your input\")\n",
    "lst= lst.split()\n",
    "largest= lst[0]\n",
    "for num in lst:\n",
    "    if num > largest:\n",
    "        largest= num\n",
    "print(\"The largest num is\", largest)"
   ]
  },
  {
   "cell_type": "markdown",
   "id": "a2f36656-d325-4764-899e-2153f52a54a1",
   "metadata": {},
   "source": [
    "### 4. Write a program that rotates the element of a list so that the element at the first index moves to the second index, the element in the second index moves to the third index, etc., and the element in the last index moves to the first index. "
   ]
  },
  {
   "cell_type": "code",
   "execution_count": 7,
   "id": "867d45b9-6ec8-4281-be93-eb920246ef86",
   "metadata": {},
   "outputs": [
    {
     "name": "stdin",
     "output_type": "stream",
     "text": [
      "Enter your input 1 2 3 4 5\n"
     ]
    },
    {
     "name": "stdout",
     "output_type": "stream",
     "text": [
      "This is the last element 5\n",
      "['5', '1', '2', '3', '4']\n"
     ]
    }
   ],
   "source": [
    "lst= input(\"Enter your input\")\n",
    "lst= lst.split()\n",
    "last= lst[-1]\n",
    "print(\"This is the last element\", last)\n",
    "print([last]+ lst[:-1])"
   ]
  },
  {
   "cell_type": "markdown",
   "id": "a34c019f-7d23-42b8-81a8-6be15d4812a0",
   "metadata": {},
   "source": [
    "### 5. Write a program that input a string and ask user to delete a given word from a string. "
   ]
  },
  {
   "cell_type": "code",
   "execution_count": 8,
   "id": "afe84ee5-7f3d-4f05-9a5e-814daa0ae4a7",
   "metadata": {},
   "outputs": [
    {
     "name": "stdin",
     "output_type": "stream",
     "text": [
      "Enter a string Hassaan Muhammad\n"
     ]
    },
    {
     "name": "stdout",
     "output_type": "stream",
     "text": [
      "Hassaan Muhammad\n"
     ]
    },
    {
     "name": "stdin",
     "output_type": "stream",
     "text": [
      "Enter the word you want to delete Hassaan\n"
     ]
    },
    {
     "name": "stdout",
     "output_type": "stream",
     "text": [
      " Muhammad\n"
     ]
    }
   ],
   "source": [
    "string= input(\"Enter a string\")\n",
    "print(string)\n",
    "word= input(\"Enter the word you want to delete\")\n",
    "deleted= string.replace(word,\"\")\n",
    "print(deleted)"
   ]
  },
  {
   "cell_type": "markdown",
   "id": "c7ea0b70-1431-4f37-8fc1-22a2e01d2863",
   "metadata": {},
   "source": [
    "###  6. Write a program that reads a string from the user containing a date in the form mm/dd/yyyy. It should print the date in the form March 12, 2021. \n"
   ]
  },
  {
   "cell_type": "code",
   "execution_count": 10,
   "id": "27bfa95a-d20d-4a52-b0ef-4a9083f79ce3",
   "metadata": {},
   "outputs": [
    {
     "name": "stdin",
     "output_type": "stream",
     "text": [
      "Enter a date (mm/dd/yyyy):  04/04/2003\n"
     ]
    },
    {
     "name": "stdout",
     "output_type": "stream",
     "text": [
      "April 04 2003\n"
     ]
    }
   ],
   "source": [
    "months = [\n",
    "    \"January\" , \"February\", \"March\", \"April\", \"May\", \"June\", \n",
    "    \"July\", \"August\", \"September\", \"October\", \"November\", \"December\"\n",
    "]\n",
    "date = input(\"Enter a date (mm/dd/yyyy): \")\n",
    "mm, dd, year= date.split(\"/\")\n",
    "month=months[int(mm) -1]\n",
    "print(month,dd, year)"
   ]
  },
  {
   "cell_type": "markdown",
   "id": "133d8493-97e0-4b88-9bfc-f9454e0dc97a",
   "metadata": {},
   "source": [
    "### 7. Write a program with a function that accepts a string from keyboard and create a new string after converting character of each word capitalized. For instance, if the sentence is \"stop and smell the roses.\" the output should be \"Stop And Smell The Roses\" "
   ]
  },
  {
   "cell_type": "code",
   "execution_count": 11,
   "id": "857f4b00-af7a-4708-8ac7-c21807353777",
   "metadata": {},
   "outputs": [
    {
     "name": "stdin",
     "output_type": "stream",
     "text": [
      "Enter any string stop and smell the roses\n"
     ]
    },
    {
     "data": {
      "text/plain": [
       "'Stop And Smell The Roses'"
      ]
     },
     "execution_count": 11,
     "metadata": {},
     "output_type": "execute_result"
    }
   ],
   "source": [
    "string= input(\"Enter any string\")\n",
    "new_string= string.title()\n",
    "new_string"
   ]
  },
  {
   "cell_type": "markdown",
   "id": "370b5705-b278-4c16-a668-e25f59d63160",
   "metadata": {},
   "source": [
    "### 8 Find the sum of each row of matrix of size m x n. For example for the following matrix output will be like this : Sum of row 1 = 32 Sum of row 2 = 31 Sum of row 3 = 63"
   ]
  },
  {
   "cell_type": "code",
   "execution_count": 4,
   "id": "49d5d31f-3ce8-4d92-8b9d-daaed8b27c4c",
   "metadata": {},
   "outputs": [
    {
     "name": "stdout",
     "output_type": "stream",
     "text": [
      "2 11 7 12 \n",
      "5 2 9 15 \n",
      "8 3 10 42 \n",
      "Sum of row 1 = 32\n",
      "Sum of row 2 = 31\n",
      "Sum of row 3 = 63\n"
     ]
    }
   ],
   "source": [
    "mat = [[2,11,7,12],[5,2,9,15],[8,3,10,42]]\n",
    "row_sum = []\n",
    "for i in range(0,len(mat)):\n",
    "    for j in range(0,len(mat[0])): print(mat[i][j],end = \" \")\n",
    "    row_sum.append(sum(mat[i]))\n",
    "    print()\n",
    "for i in range(0,len(row_sum)): print(f\"Sum of row {i+1} = {row_sum[i]}\")"
   ]
  },
  {
   "cell_type": "markdown",
   "id": "0e466a92-fa0c-4ffc-a192-74daa365f137",
   "metadata": {},
   "source": [
    "### 9 Write a program to add two matrices of size n x m"
   ]
  },
  {
   "cell_type": "code",
   "execution_count": 2,
   "id": "e9c94b32-4a6f-4e5d-8b3e-ff8921de4911",
   "metadata": {},
   "outputs": [
    {
     "name": "stdout",
     "output_type": "stream",
     "text": [
      "1   2   3   1   2   3   10 10 10 \n",
      "4   5   6 + 4   5   6 = 10 10 10 \n",
      "7   8   9   7   8   9   10 10 10 \n",
      "\n"
     ]
    }
   ],
   "source": [
    "matA = [[1,2,3],[4,5,6],[7,8,9]]\n",
    "matB = [[9,8,7],[6,5,4],[3,2,1]]\n",
    "for i in range(0,len(matA)):\n",
    "    for j in range(0,len(matA)): \n",
    "        if i == 1 and j == 2:\n",
    "            print(matA[i][j],\"+\",end = \" \")\n",
    "        else:\n",
    "            print(matA[i][j],\"\",end = \"  \")\n",
    "    for j in range(0,len(matA)):\n",
    "        if i == 1 and j == 2:\n",
    "            print(matA[i][j],\"=\",end = \" \")\n",
    "        else:\n",
    "            print(matA[i][j],\"\",end = \"  \")\n",
    "    for j in range(0,len(matA[i])): print(f\"{matA[i][j] + matB[i][j]}\",end = \" \")\n",
    "    print()\n",
    "print()"
   ]
  },
  {
   "cell_type": "markdown",
   "id": "b659d9a1-b30a-4b21-8149-8535edab120a",
   "metadata": {},
   "source": [
    "### 10. Write a program to multiply two matrices"
   ]
  },
  {
   "cell_type": "code",
   "execution_count": 3,
   "id": "4be6bc79-5a91-445f-a06f-2485c2d2c748",
   "metadata": {},
   "outputs": [
    {
     "name": "stdout",
     "output_type": "stream",
     "text": [
      "1   2   3   5   6   7   \n",
      "3   4   5 x 3   4   5   \n",
      "5   6   7   1   2   3   \n",
      "14  20  26  \n",
      "32  44  56  \n",
      "50  68  86  \n"
     ]
    }
   ],
   "source": [
    "matA = [[1,2,3],[3,4,5,],[5,6,7]]\n",
    "matB = [[5,6,7],[3,4,5],[1,2,3]]\n",
    "matC = []\n",
    "for i in range(0,len(matA)):\n",
    "    for j in range(0,len(matA)): \n",
    "        if i == 1 and j == 2:\n",
    "            print(matA[i][j],\"x\",end = \" \")\n",
    "        else:\n",
    "            print(matA[i][j],\"\",end = \"  \")\n",
    "    for j in range(0,len(matA)): print(matB[i][j],\"\",end = \"  \")\n",
    "    print()\n",
    "matC = [[0 for i in range(len(matB[0]))] for i in range(len(matA))]\n",
    "for i in range(0,len(matA)):\n",
    "    for j in range(0,len(matB)):\n",
    "        for k in range(0,len(matB)):\n",
    "            matC[i][j] += matA[i][k]*matB[k][j]\n",
    "        print(matC[i][j],\"\",end = \" \")\n",
    "    print()"
   ]
  },
  {
   "cell_type": "code",
   "execution_count": null,
   "id": "1c32e799-a9dc-4fa4-abc4-546a0335e660",
   "metadata": {},
   "outputs": [],
   "source": []
  }
 ],
 "metadata": {
  "kernelspec": {
   "display_name": "Python 3 (ipykernel)",
   "language": "python",
   "name": "python3"
  },
  "language_info": {
   "codemirror_mode": {
    "name": "ipython",
    "version": 3
   },
   "file_extension": ".py",
   "mimetype": "text/x-python",
   "name": "python",
   "nbconvert_exporter": "python",
   "pygments_lexer": "ipython3",
   "version": "3.13.7"
  }
 },
 "nbformat": 4,
 "nbformat_minor": 5
}
