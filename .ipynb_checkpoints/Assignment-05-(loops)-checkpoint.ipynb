{
 "cells": [
  {
   "cell_type": "markdown",
   "id": "9f864166-ea9a-4a35-954d-eb3c91f029ab",
   "metadata": {},
   "source": [
    "### 1. Write a Python program to print the numbers from 1 to 10 using a for loop"
   ]
  },
  {
   "cell_type": "code",
   "execution_count": null,
   "id": "e93661ca-3c40-472d-b7eb-7e4379e168e3",
   "metadata": {},
   "outputs": [],
   "source": []
  },
  {
   "cell_type": "markdown",
   "id": "638064a7-97d7-45e2-aaaa-1cc4fd2b82b0",
   "metadata": {},
   "source": [
    "### 2. Write a Python program to print the numbers from 20 to 1 using a while loop.\n"
   ]
  },
  {
   "cell_type": "code",
   "execution_count": null,
   "id": "47934409-9e84-4551-8ee8-e3fd20580f2c",
   "metadata": {},
   "outputs": [],
   "source": []
  },
  {
   "cell_type": "markdown",
   "id": "eca68f8a-8e0d-41c3-9b28-2d9075589039",
   "metadata": {},
   "source": [
    "### 3. Write a program to print even numbers from 1 to 10. \n"
   ]
  },
  {
   "cell_type": "markdown",
   "id": "682e6e9c-ceb7-459d-8ce4-c6a7cb4bd9d9",
   "metadata": {},
   "source": []
  },
  {
   "cell_type": "markdown",
   "id": "9404b9aa-6d0b-4cdf-add1-0c80cc6f48de",
   "metadata": {},
   "source": [
    "### 4. Write a program that prompts the user to enter a number n and prints all the numbers from 1 to n. "
   ]
  },
  {
   "cell_type": "code",
   "execution_count": null,
   "id": "70cb2bff-9750-4481-8dad-0d99041ca735",
   "metadata": {},
   "outputs": [],
   "source": []
  },
  {
   "cell_type": "markdown",
   "id": "633b5537-f32f-469d-9953-d4f3cbf80dc8",
   "metadata": {},
   "source": [
    "### 5. Write a program that prompts the user to enter a number n, and then prints all the odd numbers between 1 and n. "
   ]
  },
  {
   "cell_type": "code",
   "execution_count": null,
   "id": "72886ad9-ca2d-4636-aea8-1a87356f55e4",
   "metadata": {},
   "outputs": [],
   "source": []
  },
  {
   "cell_type": "markdown",
   "id": "f43c28e0-6c5a-4901-a6b4-fda1cedfc419",
   "metadata": {},
   "source": [
    "### 6. Write a program that prints 'Happy Birthday!' five times on screen. \n"
   ]
  },
  {
   "cell_type": "code",
   "execution_count": null,
   "id": "3c41fd8c-fcba-4f00-b2f3-d89c2b49a8e6",
   "metadata": {},
   "outputs": [],
   "source": []
  },
  {
   "cell_type": "markdown",
   "id": "83ccf97a-3498-4b4b-813d-8a670bd4b29c",
   "metadata": {},
   "source": [
    "### 7. Write a program that takes a number n as input from the user and generates the first n terms of the series formed by squaring the natural numbers.\n",
    "Sample output\n",
    "Enter a number: 6\n",
    "The first 6 terms of the series are:\n",
    "1 4 9 16 25 36 "
   ]
  },
  {
   "cell_type": "code",
   "execution_count": null,
   "id": "d0752e61-4643-4bed-a008-092027baac13",
   "metadata": {},
   "outputs": [],
   "source": []
  },
  {
   "cell_type": "markdown",
   "id": "5e4cb3b4-758d-4a44-b05d-c98f088d74b2",
   "metadata": {},
   "source": [
    "### 8. Write a program that prompts the user to input a number and prints its multiplication table"
   ]
  },
  {
   "cell_type": "code",
   "execution_count": null,
   "id": "49b48163-b626-4135-9fc9-6a7726ef05e7",
   "metadata": {},
   "outputs": [],
   "source": []
  },
  {
   "cell_type": "markdown",
   "id": "6b87369b-7ac7-4305-8de1-04bcf86a68e8",
   "metadata": {},
   "source": [
    "### 9. Write a Python program to print the first 8 terms of an arithmetic progression starting with 3 and having a common difference of 4.\n",
    "The program should output the following sequence:\n",
    "3 7 11 15 19 23 27 31 \n"
   ]
  },
  {
   "cell_type": "code",
   "execution_count": null,
   "id": "e817c491-bb08-44b6-bc0c-957c51f16cec",
   "metadata": {},
   "outputs": [],
   "source": []
  },
  {
   "cell_type": "markdown",
   "id": "ba528aee-0262-4893-a619-4371ffcbd523",
   "metadata": {},
   "source": [
    "### 10. Write a Python program to print the first 6 terms of a geometric sequence starting with 2 and having a common ratio of 3.\n",
    "The program should output the following sequence:\n",
    "2 6 18 54 162 486 "
   ]
  },
  {
   "cell_type": "code",
   "execution_count": null,
   "id": "683e41cd-253f-4355-90ec-16137084bd3c",
   "metadata": {},
   "outputs": [],
   "source": []
  },
  {
   "cell_type": "markdown",
   "id": "18e04e2e-beec-41e7-ae5b-4e4471ba2036",
   "metadata": {},
   "source": [
    "### 11. Write a program that asks the user for a positive integer value. The program shouldcalculate the sum of all the integers from 1 up to the number entered. For example, if the user enters 20, the loop will find the sum of 1, 2, 3, 4, ... 20. \n"
   ]
  },
  {
   "cell_type": "code",
   "execution_count": null,
   "id": "8b51bea4-dede-4ace-9235-0dde3a038e4f",
   "metadata": {},
   "outputs": [],
   "source": []
  },
  {
   "cell_type": "markdown",
   "id": "ea9a3328-eda9-43fc-a027-8d8b60667f4c",
   "metadata": {},
   "source": [
    "### 12. write a program that takes a positive integer N as input and calculates the sum of the reciprocals of all numbers from 1 up to N. The program should display the final sum.\n",
    "Output of the program should be like:\n",
    "Enter a positive integer: 5\n",
    "The sum of reciprocals from 1 to 5 is: 2.28"
   ]
  },
  {
   "cell_type": "code",
   "execution_count": null,
   "id": "44319c56-1774-4de5-8ba4-72961876a8cc",
   "metadata": {},
   "outputs": [],
   "source": []
  },
  {
   "cell_type": "markdown",
   "id": "9542d49a-823e-4f32-8d29-0bd14f6c14de",
   "metadata": {},
   "source": [
    "### 13. Write a program that prompts the user to enter a number and repeats this process 5 times. The program should accumulate the numbers entered and then display the final running total.\n",
    "Sample Output:\n",
    "Enter a number: 10\n",
    "Enter a number: 15\n",
    "Enter a number: 35\n",
    "Enter a number: 40\n",
    "Enter a number: 50\n",
    "The final running total is: 150 \n"
   ]
  },
  {
   "cell_type": "code",
   "execution_count": null,
   "id": "087e29a8-c296-44b3-92c4-b5cffabd7773",
   "metadata": {},
   "outputs": [],
   "source": []
  },
  {
   "cell_type": "markdown",
   "id": "93da107b-849a-4947-80a8-075b43147d58",
   "metadata": {},
   "source": [
    "### 14. Write a program that prompts the user to enter a positive integer and calculates its factorial. The factorial of a positive integer 'n' is denoted as 'n!' and is calculated by multiplying all the integers from 1 to 'n' together. For example, the factorial of 5 (denoted as 5!) is calculated as 1 x 2 x 3 x 4 x 5.\n",
    "The program should display the factorial value if the input is a positive number, or\n",
    "display a message stating that the factorial does not exist for negative numbers.\n",
    "Additionally, for an input of zero, the program should output that the factorial of 0 is 1"
   ]
  },
  {
   "cell_type": "code",
   "execution_count": null,
   "id": "a93b54f2-2d82-4fbe-baeb-9daea429a0bf",
   "metadata": {},
   "outputs": [],
   "source": []
  },
  {
   "cell_type": "markdown",
   "id": "a1d0037e-edba-45ef-816b-063fd7f3d810",
   "metadata": {},
   "source": [
    "### 15. Write a Python program that prompts the user to enter a base number and an exponent, and then calculates the power of the base to the exponent. \n",
    "The program should not use the exponentiation operator (**) or the math.pow() function. The\n",
    "program should handle both positive and negative exponents. "
   ]
  },
  {
   "cell_type": "code",
   "execution_count": null,
   "id": "e00217ed-eaa6-42e6-b6fe-835c212f4422",
   "metadata": {},
   "outputs": [],
   "source": []
  }
 ],
 "metadata": {
  "kernelspec": {
   "display_name": "Python 3 (ipykernel)",
   "language": "python",
   "name": "python3"
  },
  "language_info": {
   "codemirror_mode": {
    "name": "ipython",
    "version": 3
   },
   "file_extension": ".py",
   "mimetype": "text/x-python",
   "name": "python",
   "nbconvert_exporter": "python",
   "pygments_lexer": "ipython3",
   "version": "3.13.7"
  }
 },
 "nbformat": 4,
 "nbformat_minor": 5
}
