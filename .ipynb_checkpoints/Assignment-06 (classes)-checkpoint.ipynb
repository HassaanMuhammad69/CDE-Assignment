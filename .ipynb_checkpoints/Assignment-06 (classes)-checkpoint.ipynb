{
 "cells": [
  {
   "cell_type": "markdown",
   "id": "7cfe692f-8f52-4d03-a6ba-e1afefb092d8",
   "metadata": {},
   "source": [
    "### Write a Python program to create a class representing a Circle. Include methods to calculate its area and perimeter."
   ]
  },
  {
   "cell_type": "code",
   "execution_count": 18,
   "id": "fc0f5360-d06d-4984-ac23-e54543ce5c88",
   "metadata": {},
   "outputs": [
    {
     "name": "stdout",
     "output_type": "stream",
     "text": [
      "Area: 78.54\n",
      "Perimeter: 31.42\n"
     ]
    }
   ],
   "source": [
    "import math\n",
    "\n",
    "class circle():\n",
    "    def __init__(self,radius):\n",
    "        self.radius= radius\n",
    "\n",
    "    def area(self): return math.pi *(self.radius **2)\n",
    "\n",
    "    def perimeter(self): return 2* math.pi *self.radius \n",
    "\n",
    "c = circle(5)\n",
    "print(f\"Area: {c.area():.2f}\")\n",
    "print(f\"Perimeter: {c.perimeter():.2f}\")"
   ]
  },
  {
   "cell_type": "markdown",
   "id": "17428cd5-9148-494b-94d8-531b4676bb8a",
   "metadata": {},
   "source": [
    "### Write a Python program to create a person class. Include attributes like name, country and date of birth. Implement a method to determine the person's age."
   ]
  },
  {
   "cell_type": "code",
   "execution_count": 15,
   "id": "4a14b07d-1d3c-458d-9e0e-ed3ba64375aa",
   "metadata": {},
   "outputs": [
    {
     "name": "stdout",
     "output_type": "stream",
     "text": [
      "Hassaan\n",
      "Pakistan\n",
      "22\n"
     ]
    }
   ],
   "source": [
    "from datetime import date\n",
    "\n",
    "class person():\n",
    "    def __init__(self,name,country,DOB):\n",
    "        self.name= name\n",
    "        self.country= country\n",
    "        self.DOB= DOB  # format: YYYY, MM, DD\n",
    "\n",
    "    def Findage(self):\n",
    "        today= date.today()\n",
    "        age= today.year - self.DOB.year\n",
    "        return age\n",
    "\n",
    "p_obj= person(\"Hassaan\",\"Pakistan\",date(2003,4,4))\n",
    "print(f\"{p_obj.name}\")\n",
    "print(f\"{p_obj.country}\")\n",
    "print(f\"{p_obj.Findage()}\")\n"
   ]
  },
  {
   "cell_type": "markdown",
   "id": "13206780-e1f0-45d2-bca4-e4b937a6683c",
   "metadata": {},
   "source": [
    "### Write a Python program to create a calculator class. Include methods for basic arithmetic operations."
   ]
  },
  {
   "cell_type": "code",
   "execution_count": 26,
   "id": "9ea66108-10cf-4507-a7dc-4d3496d56212",
   "metadata": {},
   "outputs": [
    {
     "name": "stdout",
     "output_type": "stream",
     "text": [
      "Addition: 15\n",
      "Subtraction: 5\n",
      "Multiplication: 50\n",
      "Division: 2.0\n"
     ]
    }
   ],
   "source": [
    "class Calculator():\n",
    "    def __init(self, a, b): \n",
    "        self.a= a\n",
    "        self.b= b\n",
    "\n",
    "    def add(self,a, b): return a + b \n",
    "    def sub(self,a, b): return a - b \n",
    "    def mul(self,a, b): return a * b \n",
    "    def div(self,a, b): \n",
    "        if b == 0: return \"Error! Division by zero.\"\n",
    "        return a / b\n",
    "\n",
    "\n",
    "calc = Calculator()\n",
    "print(f\"Addition: {calc.add(10, 5)}\")\n",
    "print(f\"Subtraction: {calc.sub(10, 5)}\")\n",
    "print(f\"Multiplication: {calc.mul(10, 5)}\")\n",
    "print(f\"Division: {calc.div(10, 5)}\")\n"
   ]
  }
 ],
 "metadata": {
  "kernelspec": {
   "display_name": "Python 3 (ipykernel)",
   "language": "python",
   "name": "python3"
  },
  "language_info": {
   "codemirror_mode": {
    "name": "ipython",
    "version": 3
   },
   "file_extension": ".py",
   "mimetype": "text/x-python",
   "name": "python",
   "nbconvert_exporter": "python",
   "pygments_lexer": "ipython3",
   "version": "3.13.7"
  }
 },
 "nbformat": 4,
 "nbformat_minor": 5
}
